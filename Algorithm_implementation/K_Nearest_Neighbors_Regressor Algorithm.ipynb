{
 "cells": [
  {
   "cell_type": "code",
   "execution_count": 1,
   "metadata": {
    "collapsed": true
   },
   "outputs": [],
   "source": [
    "import matplotlib\n",
    "import matplotlib.pyplot as plt\n",
    "import numpy as np\n",
    "import pandas as pd"
   ]
  },
  {
   "cell_type": "markdown",
   "metadata": {},
   "source": [
    "__Step by step the process to select k in the k-nearest neighbor algorithm (pseudocode):__"
   ]
  },
  {
   "cell_type": "markdown",
   "metadata": {},
   "source": [
    "<pre> - For k in range (n):\n",
    "    - define the k nearest neighbors\n",
    "    - Calculate the mean of k nearest neighbors\n",
    "    - derived the k-nn regression\n",
    "    - calculate the lost fuction for training and test sets\n",
    "- Choose the k of the model with the best fit\n",
    "</pre>"
   ]
  },
  {
   "cell_type": "code",
   "execution_count": 12,
   "metadata": {
    "collapsed": true
   },
   "outputs": [],
   "source": [
    "#N dimentional\n",
    "import math\n",
    "from functools import reduce\n",
    "\n",
    "def l1_norm(a,b):\n",
    "    \"\"\"Returns the l1 norm (a,b)\"\"\"\n",
    "    d= map(lambda x,y:abs(x-y), a,b) #Calculate the absolute distance between a,b elements\n",
    "    return reduce(lambda x,y:x+y, d) #Sum of absolute distances (Manhattan distance)\n",
    "    \n",
    "    \n",
    "def l2_norm(a,b):\n",
    "    \"\"\"Returns the l2 norm (a,b)\"\"\" \n",
    "    \n",
    "    d= map(lambda x,y:(x-y)**2,a,b) #Calculate (a(i)-b(i))^2\n",
    "    return math.sqrt(reduce(lambda x,y:x+y,d )) # Square root of sum of (a(i)-b(i))^2 (Euclidean distance)   \n",
    "    \n",
    "    \n",
    "def k_neighbor_nd(input_data, k, p, metric='l1', mode='mean'):\n",
    "    \"\"\"Returns the k-neighbor estimate for p using data input_data.\n",
    "\n",
    "    Keyword arguments:\n",
    "    input_data -- numpy array of all the data\n",
    "    k -- Number of k\n",
    "    p -- input values\n",
    "    metric -- l1 or l2. l1 norm or l2 norm https://en.wikipedia.org/wiki/Norm_(mathematics)\n",
    "    mode -- estimator possible values = 'mean', 'median', 'max'\n",
    "    \n",
    "    Implement the l1 and l2 norms\n",
    "    for mean, median and max, use np.mean, np.median and np.max\n",
    "    \"\"\"\n",
    "    # All points in each neighborhood are weighted equally (uniform weights)\n",
    "    \n",
    "   \n",
    "    distance =[]\n",
    "    for point in (input_data):\n",
    "        if metric =='l1':       \n",
    "            # list of pairs of each element of input_data and the distance(l1 or l2) from p to the element  \n",
    "            distance.append((point ,l1_norm(point,p)))\n",
    "        elif metric =='l2':\n",
    "            distance.append((point ,l2_norm(point,p)))\n",
    "        \n",
    "    #Order pairs by increasing distance\n",
    "    sort_distance= sorted(distance, key= lambda n:n[1])\n",
    "    \n",
    "    #find the k nearest neighbors of input value,p\n",
    "    neighbor = sort_distance[:k]\n",
    "    \n",
    "    ### If it is found that two neighbors, neighbor k+1, k have identical distance but different labels,\n",
    "    ### the result will depond on ordering of the data set.\n",
    "    \n",
    "    # Calculate the mean of the k neighbours\n",
    "    neighbor_value =[]  \n",
    "    for v,d in neighbor:\n",
    "        neighbor_value.append(v)\n",
    "        \n",
    "    if mode =='mean':     \n",
    "        return np.mean(np.array(neighbor_value),axis=0) \n",
    "    \n",
    "    elif mode =='max':\n",
    "        return np.max(np.array(neighbor_value),axis=0)\n",
    "    \n",
    "    elif mode =='median':\n",
    "        return np.median(np.array(neighbor_value),axis=0)\n",
    "    \n",
    "   "
   ]
  },
  {
   "cell_type": "code",
   "execution_count": 13,
   "metadata": {
    "collapsed": true
   },
   "outputs": [],
   "source": [
    "data_4d = np.array([[4, 1, 2, 1], [1, 4, 2, 0], [3, 3, 1, 1], \n",
    "        [4, 0, 0, 0], [1, 2, 0, 0], [3, 4, 2, 3], \n",
    "        [2, 4, 4, 2], [2, 1, 4, 1], [3, 3, 2, 4], \n",
    "        [4, 3, 0, 4], [2, 2, 4, 0],[4, 3, 0, 2], \n",
    "        [4, 3, 0, 2], [0, 3, 4, 2]])"
   ]
  },
  {
   "cell_type": "code",
   "execution_count": 14,
   "metadata": {},
   "outputs": [
    {
     "name": "stdout",
     "output_type": "stream",
     "text": [
      "[ 2.          2.33333333  4.          1.        ]\n",
      "[ 4.  3.  0.  2.]\n",
      "[4 4 2 4]\n",
      "[ 3.  3.  2.  4.]\n",
      "[ 3.  4.  2.  3.]\n",
      "[ 1.33333333  2.66666667  4.          1.66666667]\n",
      "[ 3.5  3.   0.5  1.5]\n",
      "[4 4 2 4]\n",
      "[ 3.  3.  2.  4.]\n",
      "[ 3.  4.  2.  3.]\n"
     ]
    }
   ],
   "source": [
    "#Evaluate\n",
    "\n",
    "print(k_neighbor_nd(input_data=data_4d, k=3, p=[2, 1, 4, 3], metric='l1', mode='mean'))\n",
    "print(k_neighbor_nd(input_data=data_4d, k=2, p=[4, 4, 0, 0], metric='l1', mode='mean'))\n",
    "print(k_neighbor_nd(input_data=data_4d, k=3, p=[2, 2, 2, 4], metric='l1', mode='max'))\n",
    "print(k_neighbor_nd(input_data=data_4d, k=1, p=[2, 3, 3, 4], metric='l1', mode='mean'))\n",
    "print(k_neighbor_nd(input_data=data_4d, k=3, p=[2, 3, 3, 4], metric='l1', mode='median'))\n",
    "print(k_neighbor_nd(input_data=data_4d, k=3, p=[2, 1, 4, 3], metric='l2', mode='mean'))\n",
    "print(k_neighbor_nd(input_data=data_4d, k=2, p=[4, 4, 0, 0], metric='l2', mode='mean'))\n",
    "print(k_neighbor_nd(input_data=data_4d, k=3, p=[2, 2, 2, 4], metric='l2', mode='max'))\n",
    "print(k_neighbor_nd(input_data=data_4d, k=1, p=[2, 3, 3, 4], metric='l2', mode='mean'))\n",
    "print(k_neighbor_nd(input_data=data_4d, k=3, p=[2, 3, 3, 4], metric='l2', mode='median'))"
   ]
  },
  {
   "cell_type": "markdown",
   "metadata": {},
   "source": [
    "Different metrics return different neighbors for the same value point(p). Also different modes return different results.\n",
    "So tuninig the hyperparameters is really important for optimization of a machine learning model. "
   ]
  },
  {
   "cell_type": "markdown",
   "metadata": {},
   "source": [
    "---"
   ]
  }
 ],
 "metadata": {
  "kernelspec": {
   "display_name": "Python 3",
   "language": "python",
   "name": "python3"
  },
  "language_info": {
   "codemirror_mode": {
    "name": "ipython",
    "version": 3
   },
   "file_extension": ".py",
   "mimetype": "text/x-python",
   "name": "python",
   "nbconvert_exporter": "python",
   "pygments_lexer": "ipython3",
   "version": "3.6.8"
  }
 },
 "nbformat": 4,
 "nbformat_minor": 2
}
